{
  "cells": [
    {
      "cell_type": "markdown",
      "metadata": {
        "id": "view-in-github",
        "colab_type": "text"
      },
      "source": [
        "<a href=\"https://colab.research.google.com/github/IceMerman/NN_validation/blob/master/notebooks/exploration.ipynb\" target=\"_parent\"><img src=\"https://colab.research.google.com/assets/colab-badge.svg\" alt=\"Open In Colab\"/></a>"
      ]
    },
    {
      "cell_type": "markdown",
      "source": [
        "# Database\n",
        "[Available at Gdrive](https://drive.google.com/drive/folders/1siq0kTyjfqAUDNefl4sXw8epz-fk-_gb?usp=sharing)\n",
        "\n",
        "# Creation\n",
        "\n",
        "\n",
        "The database was created using [MatPower](https://matpower.org/), the source can be found at [GitHub](https://github.com/IceMerman/NN_validation/tree/master/Demanda)\n"
      ],
      "metadata": {
        "id": "uwiDOxzWNc2r"
      },
      "id": "uwiDOxzWNc2r"
    },
    {
      "cell_type": "code",
      "execution_count": null,
      "id": "8dce26e8-b6d4-4624-8e6f-6a19c09121a5",
      "metadata": {
        "id": "8dce26e8-b6d4-4624-8e6f-6a19c09121a5"
      },
      "outputs": [],
      "source": [
        "# libraries\n",
        "from scipy.io import loadmat\n",
        "import numpy as np\n",
        "\n",
        "import torch.nn as nn\n",
        "import torch.nn.functional as F\n",
        "import torch.optim as optim"
      ]
    },
    {
      "cell_type": "code",
      "execution_count": null,
      "id": "efe770e4-cd92-4a55-a67d-e6f6295fec14",
      "metadata": {
        "id": "efe770e4-cd92-4a55-a67d-e6f6295fec14"
      },
      "outputs": [],
      "source": [
        "# load database\n",
        "mat = loadmat('/content/db.mat')\n",
        "labels = mat['issecure']\n",
        "VM = mat['VM']\n",
        "VA = mat['VA']\n",
        "# Reshape sload half of the data is active power, the other one is reactive power\n",
        "SLOAD = mat['SLOAD']\n",
        "\n",
        "\n",
        "EPOCHS = 2"
      ]
    },
    {
      "cell_type": "code",
      "execution_count": null,
      "id": "8761861b-90cc-454a-9109-3b1d3a9855c6",
      "metadata": {
        "id": "8761861b-90cc-454a-9109-3b1d3a9855c6"
      },
      "outputs": [],
      "source": [
        "samples, powers = SLOAD.shape\n",
        "PLOAD = SLOAD[:, :powers//2]\n",
        "QLOAD = SLOAD[:, powers//2:]"
      ]
    },
    {
      "cell_type": "code",
      "execution_count": null,
      "id": "6415a1db-a521-4030-a9b5-8f6b6b1c06f6",
      "metadata": {
        "id": "6415a1db-a521-4030-a9b5-8f6b6b1c06f6"
      },
      "outputs": [],
      "source": [
        "def sign(fval: float)-> str:\n",
        "  if fval >= 0:\n",
        "    return \"+\"\n",
        "  else:\n",
        "    return \"-\"\n",
        "\n",
        "def print_rect(id_experiment: int = 0) -> None:\n",
        "  for i,power in enumerate(PLOAD[id_experiment,:]):\n",
        "    reactive = QLOAD[id_experiment,i]\n",
        "    s_reactive = sign(reactive)\n",
        "    print(f'{power:.2f} {s_reactive} j {abs(reactive):.2f}')"
      ]
    },
    {
      "cell_type": "code",
      "execution_count": null,
      "id": "6bf60852-aff7-44d3-970e-c36221f91701",
      "metadata": {
        "id": "6bf60852-aff7-44d3-970e-c36221f91701"
      },
      "outputs": [],
      "source": [
        "# Neural net\n",
        "class Net(nn.Module):\n",
        "  def __init__(self, first_layers_size):\n",
        "    super().__init__()\n",
        "    self.fc1 = nn.Linear(first_layers_size, first_layers_size//2)\n",
        "    self.fc2 = nn.Linear(first_layers_size//2, 2*first_layers_size)\n",
        "    self.fc3 = nn.Linear(2*first_layers_size, (first_layers_size*3)//2)\n",
        "    self.fc4 = nn.Linear((first_layers_size*3)//2, first_layers_size//2)\n",
        "    self.fc5 = nn.Linear(first_layers_size//2, 1)\n",
        "    \n",
        "  \n",
        "  def forward(self, x):\n",
        "    x = F.relu(self.fc1(x))\n",
        "    x = F.relu(self.fc2(x))\n",
        "    x = F.relu(self.fc3(x))\n",
        "    x = F.relu(self.fc4(x))\n",
        "    x = self.fc5(x)\n",
        "    return x\n",
        "\n",
        "net = Net(powers//2)"
      ]
    },
    {
      "cell_type": "code",
      "source": [
        "criterion = nn.CrossEntropyLoss()\n",
        "optimizer = optim.SGD(net.parameters(), lr=0.001, momentum=0.9)"
      ],
      "metadata": {
        "id": "rZ7-kGQKcfi2"
      },
      "id": "rZ7-kGQKcfi2",
      "execution_count": null,
      "outputs": []
    },
    {
      "cell_type": "code",
      "source": [
        "trainloader = []\n",
        "\n",
        "for epoch in range(EPOCHS):  # loop over the dataset multiple times\n",
        "\n",
        "    running_loss = 0.0\n",
        "    for i, data in enumerate(trainloader, 0):\n",
        "        # get the inputs; data is a list of [inputs, labels]\n",
        "        inputs, labels = data\n",
        "\n",
        "        # zero the parameter gradients\n",
        "        optimizer.zero_grad()\n",
        "\n",
        "        # forward + backward + optimize\n",
        "        outputs = net(inputs)\n",
        "        loss = criterion(outputs, labels)\n",
        "        loss.backward()\n",
        "        optimizer.step()\n",
        "\n",
        "        # print statistics\n",
        "        running_loss += loss.item()\n",
        "        if i % 2000 == 1999:    # print every 2000 mini-batches\n",
        "            print(f'[{epoch + 1}, {i + 1:5d}] loss: {running_loss / 2000:.3f}')\n",
        "            running_loss = 0.0\n",
        "\n",
        "print('Finished Training')"
      ],
      "metadata": {
        "id": "Opy8XEA7ddwW"
      },
      "id": "Opy8XEA7ddwW",
      "execution_count": null,
      "outputs": []
    }
  ],
  "metadata": {
    "kernelspec": {
      "display_name": "Python 3",
      "language": "python",
      "name": "python3"
    },
    "language_info": {
      "codemirror_mode": {
        "name": "ipython",
        "version": 3
      },
      "file_extension": ".py",
      "mimetype": "text/x-python",
      "name": "python",
      "nbconvert_exporter": "python",
      "pygments_lexer": "ipython3",
      "version": "3.6.8"
    },
    "colab": {
      "provenance": [],
      "include_colab_link": true
    }
  },
  "nbformat": 4,
  "nbformat_minor": 5
}